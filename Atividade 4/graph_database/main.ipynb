{
 "cells": [
  {
   "cell_type": "markdown",
   "metadata": {},
   "source": [
    "# NEO4J"
   ]
  },
  {
   "cell_type": "code",
   "execution_count": 222,
   "metadata": {},
   "outputs": [],
   "source": [
    "import pandas as pd\n",
    "from neo4j import GraphDatabase\n",
    "from sqlalchemy           import create_engine, text\n",
    "from sqlalchemy.orm       import sessionmaker\n",
    "from sqlalchemy           import URL"
   ]
  },
  {
   "cell_type": "code",
   "execution_count": 223,
   "metadata": {},
   "outputs": [],
   "source": [
    "url_object = URL.create(\n",
    "    \"postgresql+pg8000\",\n",
    "    username=\"dcxhxgql\",\n",
    "    password=\"bPlk_dl7Xc4l0WEaPCJIYR4dnO9kGZbz\",\n",
    "    host=\"motty.db.elephantsql.com\",\n",
    "    database=\"dcxhxgql\",\n",
    ")\n",
    "\n",
    "engine = create_engine(url_object)\n",
    "engine = create_engine(url_object)\n",
    "Session = sessionmaker(bind=engine)\n",
    "session = Session()\n",
    "conn = engine.connect()\n",
    "\n",
    "# Driver NEO4J\n",
    "driver = GraphDatabase.driver(uri = \"bolt://localhost:7687\", auth=(\"neo4j\", \"password\"))"
   ]
  },
  {
   "cell_type": "code",
   "execution_count": 224,
   "metadata": {},
   "outputs": [],
   "source": [
    "def deleteDataNeo4J():\n",
    "\ttry:\n",
    "\t\tdriver.execute_query(\"MATCH (s:department) DETACH DELETE s;\")\n",
    "\t\tdriver.execute_query(\"MATCH (s:classroom) DETACH DELETE s;\")\n",
    "\t\tdriver.execute_query(\"MATCH (s:prereq) DETACH DELETE s;\")\n",
    "\t\tdriver.execute_query(\"MATCH (s:course) DETACH DELETE s;\")\n",
    "\t\tdriver.execute_query(\"MATCH (s:takes) DETACH DELETE s;\")\n",
    "\t\tdriver.execute_query(\"MATCH (s:time_slot) DETACH DELETE s;\")\n",
    "\t\tdriver.execute_query(\"MATCH (s:teaches) DETACH DELETE s;\")\n",
    "\t\tdriver.execute_query(\"MATCH (s:advisor) DETACH DELETE s;\")\n",
    "\t\tdriver.execute_query(\"MATCH (s:section) DETACH DELETE s;\")\n",
    "\t\tdriver.execute_query(\"MATCH (i:instructor) DETACH DELETE i;\")\n",
    "\t\tdriver.execute_query(\"MATCH (s:student) DETACH DELETE s;\")\n",
    "\n",
    "\texcept Exception as e:\n",
    "\t\tprint(f\"Deu errado: {e}\")"
   ]
  },
  {
   "cell_type": "code",
   "execution_count": 225,
   "metadata": {},
   "outputs": [],
   "source": [
    "deleteDataNeo4J()"
   ]
  },
  {
   "cell_type": "markdown",
   "metadata": {},
   "source": [
    "#### CREATE/INSERT"
   ]
  },
  {
   "cell_type": "markdown",
   "metadata": {},
   "source": [
    "##### Instructor"
   ]
  },
  {
   "cell_type": "code",
   "execution_count": 226,
   "metadata": {},
   "outputs": [],
   "source": [
    "query = 'SELECT * FROM public.instructor;'\n",
    "instructors = conn.execute(text(query)).all()\n",
    "session.close()\n",
    "\n",
    "instructors_list = instructors\n",
    "\n",
    "instructors_list_commands = []\n",
    "\n",
    "for instructor in instructors_list:\n",
    "    neo4j_create_statemenet = \"CREATE (:instructor { id: '\" + instructor[0] + \"', name: '\" + instructor[1] + \"', dept_name: '\" + instructor[2] + \"', salary: \" + str(instructor[3]) + \" });\"\n",
    "    instructors_list_commands.append(neo4j_create_statemenet)\n",
    "\n",
    "session = driver.session()\n",
    "for i in instructors_list_commands:\n",
    "    session.run(i)"
   ]
  },
  {
   "cell_type": "markdown",
   "metadata": {},
   "source": [
    "##### Student"
   ]
  },
  {
   "cell_type": "code",
   "execution_count": 227,
   "metadata": {},
   "outputs": [],
   "source": [
    "query = 'SELECT * FROM public.student;'\n",
    "students = conn.execute(text(query)).all()\n",
    "session.close()\n",
    "\n",
    "student_list = students\n",
    "\n",
    "student_list_commands = []\n",
    "\n",
    "for stud in student_list:\n",
    "    neo4j_create_statemenet = \"CREATE (:student { id: '\" + stud[0] + \"', name: '\" + stud[1] + \"', dept_name: '\" + stud[2] + \"', tot_cred: \" + str(stud[3]) + \" });\"\n",
    "    student_list_commands.append(neo4j_create_statemenet)\n",
    "\n",
    "session = driver.session()\n",
    "for i in student_list_commands:\n",
    "    session.run(i)"
   ]
  },
  {
   "cell_type": "markdown",
   "metadata": {},
   "source": [
    "##### Department"
   ]
  },
  {
   "cell_type": "code",
   "execution_count": 228,
   "metadata": {},
   "outputs": [],
   "source": [
    "query = 'SELECT * FROM public.department;'\n",
    "departments = conn.execute(text(query)).all()\n",
    "session.close()\n",
    "\n",
    "department_list = departments\n",
    "\n",
    "department_list_commands = []\n",
    "\n",
    "for dept in department_list:\n",
    "    neo4j_create_statemenet = \"CREATE (:department { dept_name: '\" + dept[0] + \"', building: '\" + dept[1] + \"', budget: \" + str(dept[2]) + \" });\"\n",
    "    department_list_commands.append(neo4j_create_statemenet)\n",
    "\n",
    "session = driver.session()\n",
    "for i in department_list_commands:\n",
    "    session.run(i)"
   ]
  },
  {
   "cell_type": "markdown",
   "metadata": {},
   "source": [
    "##### Classroom"
   ]
  },
  {
   "cell_type": "code",
   "execution_count": 229,
   "metadata": {},
   "outputs": [],
   "source": [
    "query = 'SELECT * FROM public.classroom;'\n",
    "classrooms = conn.execute(text(query)).all()\n",
    "session.close()\n",
    "\n",
    "classroom_list = classrooms\n",
    "\n",
    "classroom_list_commands = []\n",
    "\n",
    "for classroom in classroom_list:\n",
    "    neo4j_create_statemenet = \"CREATE (:classroom { building: '\" + classroom[0] + \"', room_number: \" + str(classroom[1]) + \", capacity: \" + str(classroom[2]) + \" });\"\n",
    "    classroom_list_commands.append(neo4j_create_statemenet)\n",
    "\n",
    "session = driver.session()\n",
    "for i in classroom_list_commands:\n",
    "    session.run(i)"
   ]
  },
  {
   "cell_type": "markdown",
   "metadata": {},
   "source": [
    "##### Prereq"
   ]
  },
  {
   "cell_type": "code",
   "execution_count": 230,
   "metadata": {},
   "outputs": [],
   "source": [
    "query = 'SELECT * FROM public.prereq;'\n",
    "prereqs = conn.execute(text(query)).all()\n",
    "session.close()\n",
    "\n",
    "prereq_list = prereqs\n",
    "\n",
    "prereq_list_commands = []\n",
    "\n",
    "for prereq in prereq_list:\n",
    "    neo4j_create_statemenet = \"MATCH (c1:course { course_id: '\" + prereq[0] + \"' }) MATCH (c2:course { course_id: '\" + prereq[1] + \"' }) CREATE (c1)-[:PREREQ]->(c2);\"\n",
    "    prereq_list_commands.append(neo4j_create_statemenet)\n",
    "\n",
    "session = driver.session()\n",
    "for i in prereq_list_commands:\n",
    "    session.run(i)"
   ]
  },
  {
   "cell_type": "markdown",
   "metadata": {},
   "source": [
    "##### Advisor"
   ]
  },
  {
   "cell_type": "code",
   "execution_count": 231,
   "metadata": {},
   "outputs": [],
   "source": [
    "query = 'SELECT * FROM public.advisor;'\n",
    "advisors = conn.execute(text(query)).all()\n",
    "session.close()\n",
    "\n",
    "advisor_list = advisors\n",
    "\n",
    "advisor_list_commands = []\n",
    "\n",
    "for advisor in advisor_list:\n",
    "    neo4j_create_statemenet = \"MATCH (s:student { id: '\" + advisor[0] + \"' }) MATCH (i:instructor { id: '\" + advisor[1] + \"' }) CREATE (i)-[:ADVISOR]->(s);\"\n",
    "    advisor_list_commands.append(neo4j_create_statemenet)\n",
    "\n",
    "session = driver.session()\n",
    "for i in advisor_list_commands:\n",
    "    session.run(i)"
   ]
  },
  {
   "cell_type": "markdown",
   "metadata": {},
   "source": [
    "##### Teaches"
   ]
  },
  {
   "cell_type": "code",
   "execution_count": 232,
   "metadata": {},
   "outputs": [],
   "source": [
    "query = 'SELECT * FROM public.teaches;'\n",
    "teaches = conn.execute(text(query)).all()\n",
    "session.close()\n",
    "\n",
    "teach_list = teaches\n",
    "\n",
    "teach_list_commands = []\n",
    "\n",
    "for teach in teach_list:\n",
    "    neo4j_create_statemenet = \"MATCH (i:instructor { id: '\" + str(teach[0]) + \"' }), (s:section { sec_id: \" + str(teach[2]) + \", course_id: '\" + teach[1] + \"', semester: '\" + teach[3] + \"', year: \" + str(teach[4]) + \" }) CREATE (i)-[:TEACHES]->(s);\"\n",
    "    teach_list_commands.append(neo4j_create_statemenet)\n",
    "\n",
    "session = driver.session()\n",
    "for i in teach_list_commands:\n",
    "    session.run(i)"
   ]
  },
  {
   "cell_type": "markdown",
   "metadata": {},
   "source": [
    "##### Section"
   ]
  },
  {
   "cell_type": "code",
   "execution_count": 233,
   "metadata": {},
   "outputs": [],
   "source": [
    "query = 'SELECT * FROM public.section;'\n",
    "sections = conn.execute(text(query)).all()\n",
    "session.close()\n",
    "\n",
    "section_list = sections\n",
    "\n",
    "section_list_commands = []\n",
    "\n",
    "for teach in section_list:\n",
    "    neo4j_create_statemenet = \"CREATE (:section { course_id: '\" + teach[0] + \"', sec_id: \" + str(teach[1]) + \", semester: '\" + teach[2] + \"', year: \" + str(teach[3]) + \", building: '\" + teach[4] + \"', room_number: \" + teach[5] + \", time_slot_id: '\" + teach[6] + \"' });\"\n",
    "    section_list_commands.append(neo4j_create_statemenet) \n",
    "\n",
    "session = driver.session()\n",
    "for i in section_list_commands:\n",
    "    session.run(i)"
   ]
  },
  {
   "cell_type": "markdown",
   "metadata": {},
   "source": [
    "##### Course"
   ]
  },
  {
   "cell_type": "code",
   "execution_count": 234,
   "metadata": {},
   "outputs": [],
   "source": [
    "query = 'SELECT * FROM public.course;'\n",
    "courses = conn.execute(text(query)).all()\n",
    "session.close()\n",
    "\n",
    "course_list = courses\n",
    "\n",
    "course_list_commands = []\n",
    "\n",
    "for course in course_list:\n",
    "    neo4j_create_statemenet = \"CREATE (:course { course_id: '\" + course[0] + \"', title: '\" + course[1] + \"', dept_name: '\" + course[2] + \"', credits: \" + str(course[3]) + \" });\"\n",
    "    course_list_commands.append(neo4j_create_statemenet) \n",
    "\n",
    "session = driver.session()\n",
    "for i in course_list_commands:\n",
    "    session.run(i)"
   ]
  },
  {
   "cell_type": "markdown",
   "metadata": {},
   "source": [
    "##### Takes"
   ]
  },
  {
   "cell_type": "code",
   "execution_count": 235,
   "metadata": {},
   "outputs": [],
   "source": [
    "query = 'SELECT * FROM public.takes;'\n",
    "takes = conn.execute(text(query)).all()\n",
    "session.close()\n",
    "\n",
    "take_list = takes\n",
    "\n",
    "take_list_commands = []\n",
    "\n",
    "for take in take_list:\n",
    "    student_id = str(take[0]) if take[0] is not None else ''\n",
    "    course_id = take[1] if take[1] is not None else ''\n",
    "    sec_id = str(take[2]) if take[2] is not None else ''\n",
    "    semester = take[3] if take[3] is not None else ''\n",
    "    year = str(take[4]) if take[4] is not None else ''\n",
    "    grade = take[5] if take[5] is not None else ''\n",
    "\n",
    "    neo4j_create_statement = (\n",
    "        f\"MATCH (s:student {{ id: '{student_id}' }}), \"\n",
    "        f\"(sec:section {{ sec_id: {sec_id}, course_id: '{course_id}', semester: '{semester}', year: {year} }}) \"\n",
    "        f\"CREATE (s)-[:TAKES {{ grade: '{grade}' }}]->(sec);\"\n",
    "    )\n",
    "    take_list_commands.append(neo4j_create_statement)\n",
    "\n",
    "session = driver.session()\n",
    "for command in take_list_commands:\n",
    "    session.run(command)\n",
    "session.close()"
   ]
  },
  {
   "cell_type": "markdown",
   "metadata": {},
   "source": [
    "##### Time_slot"
   ]
  },
  {
   "cell_type": "code",
   "execution_count": 236,
   "metadata": {},
   "outputs": [],
   "source": [
    "query = 'SELECT * FROM public.time_slot;'\n",
    "time_slots = conn.execute(text(query)).all()\n",
    "session.close()\n",
    "\n",
    "time_slot_list = time_slots\n",
    "\n",
    "time_slot_list_commands = []\n",
    "\n",
    "for time_slot in time_slot_list:\n",
    "    time_slot_id = str(time_slot[0]) if time_slot[0] is not None else ''\n",
    "    day = time_slot[1] if time_slot[1] is not None else ''\n",
    "    start_hr = str(time_slot[2]) if time_slot[2] is not None else '0'\n",
    "    start_min = str(time_slot[3]) if time_slot[3] is not None else '0'\n",
    "    end_hr = str(time_slot[4]) if time_slot[4] is not None else '0'\n",
    "    end_min = str(time_slot[5]) if time_slot[5] is not None else '0'\n",
    "\n",
    "    neo4j_create_statement = (\n",
    "        f\"CREATE (:time_slot {{ time_slot_id: '{time_slot_id}', day: '{day}', start_hr: {start_hr}, start_min: {start_min}, \"\n",
    "        f\"end_hr: {end_hr}, end_min: {end_min} }});\"\n",
    "    )\n",
    "    time_slot_list_commands.append(neo4j_create_statement)\n",
    "\n",
    "session = driver.session()\n",
    "for command in time_slot_list_commands:\n",
    "    session.run(command)\n",
    "session.close()"
   ]
  },
  {
   "cell_type": "markdown",
   "metadata": {},
   "source": [
    "# Questões"
   ]
  },
  {
   "cell_type": "markdown",
   "metadata": {},
   "source": [
    "#### Questão 1 - Listar todos os cursos oferecidos por um determinado departamento"
   ]
  },
  {
   "cell_type": "code",
   "execution_count": 237,
   "metadata": {},
   "outputs": [
    {
     "data": {
      "text/html": [
       "<div>\n",
       "<style scoped>\n",
       "    .dataframe tbody tr th:only-of-type {\n",
       "        vertical-align: middle;\n",
       "    }\n",
       "\n",
       "    .dataframe tbody tr th {\n",
       "        vertical-align: top;\n",
       "    }\n",
       "\n",
       "    .dataframe thead th {\n",
       "        text-align: right;\n",
       "    }\n",
       "</style>\n",
       "<table border=\"1\" class=\"dataframe\">\n",
       "  <thead>\n",
       "    <tr style=\"text-align: right;\">\n",
       "      <th></th>\n",
       "      <th>Departamento</th>\n",
       "      <th>Curso ID</th>\n",
       "      <th>Título</th>\n",
       "    </tr>\n",
       "  </thead>\n",
       "  <tbody>\n",
       "    <tr>\n",
       "      <th>0</th>\n",
       "      <td>Comp. Sci.</td>\n",
       "      <td>BIO-101</td>\n",
       "      <td>Intro. to Biology</td>\n",
       "    </tr>\n",
       "    <tr>\n",
       "      <th>1</th>\n",
       "      <td>Comp. Sci.</td>\n",
       "      <td>BIO-301</td>\n",
       "      <td>Genetics</td>\n",
       "    </tr>\n",
       "    <tr>\n",
       "      <th>2</th>\n",
       "      <td>Comp. Sci.</td>\n",
       "      <td>BIO-399</td>\n",
       "      <td>Computational Biology</td>\n",
       "    </tr>\n",
       "    <tr>\n",
       "      <th>3</th>\n",
       "      <td>Comp. Sci.</td>\n",
       "      <td>CS-101</td>\n",
       "      <td>Intro. to Computer Science</td>\n",
       "    </tr>\n",
       "    <tr>\n",
       "      <th>4</th>\n",
       "      <td>Comp. Sci.</td>\n",
       "      <td>CS-190</td>\n",
       "      <td>Game Design</td>\n",
       "    </tr>\n",
       "    <tr>\n",
       "      <th>5</th>\n",
       "      <td>Comp. Sci.</td>\n",
       "      <td>CS-315</td>\n",
       "      <td>Robotics</td>\n",
       "    </tr>\n",
       "    <tr>\n",
       "      <th>6</th>\n",
       "      <td>Comp. Sci.</td>\n",
       "      <td>CS-319</td>\n",
       "      <td>Image Processing</td>\n",
       "    </tr>\n",
       "    <tr>\n",
       "      <th>7</th>\n",
       "      <td>Comp. Sci.</td>\n",
       "      <td>CS-347</td>\n",
       "      <td>Database System Concepts</td>\n",
       "    </tr>\n",
       "    <tr>\n",
       "      <th>8</th>\n",
       "      <td>Comp. Sci.</td>\n",
       "      <td>EE-181</td>\n",
       "      <td>Intro. to Digital Systems</td>\n",
       "    </tr>\n",
       "    <tr>\n",
       "      <th>9</th>\n",
       "      <td>Comp. Sci.</td>\n",
       "      <td>FIN-201</td>\n",
       "      <td>Investment Banking</td>\n",
       "    </tr>\n",
       "    <tr>\n",
       "      <th>10</th>\n",
       "      <td>Comp. Sci.</td>\n",
       "      <td>HIS-351</td>\n",
       "      <td>World History</td>\n",
       "    </tr>\n",
       "    <tr>\n",
       "      <th>11</th>\n",
       "      <td>Comp. Sci.</td>\n",
       "      <td>MU-199</td>\n",
       "      <td>Music Video Production</td>\n",
       "    </tr>\n",
       "    <tr>\n",
       "      <th>12</th>\n",
       "      <td>Comp. Sci.</td>\n",
       "      <td>PHY-101</td>\n",
       "      <td>Physical Principles</td>\n",
       "    </tr>\n",
       "  </tbody>\n",
       "</table>\n",
       "</div>"
      ],
      "text/plain": [
       "   Departamento Curso ID                      Título\n",
       "0    Comp. Sci.  BIO-101           Intro. to Biology\n",
       "1    Comp. Sci.  BIO-301                    Genetics\n",
       "2    Comp. Sci.  BIO-399       Computational Biology\n",
       "3    Comp. Sci.   CS-101  Intro. to Computer Science\n",
       "4    Comp. Sci.   CS-190                 Game Design\n",
       "5    Comp. Sci.   CS-315                    Robotics\n",
       "6    Comp. Sci.   CS-319            Image Processing\n",
       "7    Comp. Sci.   CS-347    Database System Concepts\n",
       "8    Comp. Sci.   EE-181   Intro. to Digital Systems\n",
       "9    Comp. Sci.  FIN-201          Investment Banking\n",
       "10   Comp. Sci.  HIS-351               World History\n",
       "11   Comp. Sci.   MU-199      Music Video Production\n",
       "12   Comp. Sci.  PHY-101         Physical Principles"
      ]
     },
     "execution_count": 237,
     "metadata": {},
     "output_type": "execute_result"
    }
   ],
   "source": [
    "def cursos_deparamento(dept_name):\n",
    "    # Cria a query\n",
    "    query = f\"MATCH (d:department {{ dept_name: '{dept_name}' }}) WITH d MATCH (c:course) RETURN d, c;\"\n",
    "    result, _, _= driver.execute_query(query)\n",
    "    \n",
    "    # Lista para armazenar os dados\n",
    "    data = []\n",
    "\n",
    "    # Processa o resultado\n",
    "    for item in result:\n",
    "        dept = item['d']['dept_name']\n",
    "        course_id = item['c']['course_id']\n",
    "        title = item['c']['title']\n",
    "        data.append({'Departamento': dept, 'Curso ID': course_id, 'Título': title})\n",
    "\n",
    "    # Cria um dataframe a partir da lista de dados\n",
    "    df = pd.DataFrame(data)\n",
    "    \n",
    "    return df\n",
    "\n",
    "# Exemplo de uso\n",
    "df_resultado = cursos_deparamento('Comp. Sci.')\n",
    "df_resultado"
   ]
  },
  {
   "cell_type": "markdown",
   "metadata": {},
   "source": [
    "#### Questão 2 - Recuperar todas as disciplinas de um curso específico em um determinado semestre"
   ]
  },
  {
   "cell_type": "code",
   "execution_count": 238,
   "metadata": {},
   "outputs": [
    {
     "data": {
      "text/html": [
       "<div>\n",
       "<style scoped>\n",
       "    .dataframe tbody tr th:only-of-type {\n",
       "        vertical-align: middle;\n",
       "    }\n",
       "\n",
       "    .dataframe tbody tr th {\n",
       "        vertical-align: top;\n",
       "    }\n",
       "\n",
       "    .dataframe thead th {\n",
       "        text-align: right;\n",
       "    }\n",
       "</style>\n",
       "<table border=\"1\" class=\"dataframe\">\n",
       "  <thead>\n",
       "    <tr style=\"text-align: right;\">\n",
       "      <th></th>\n",
       "      <th>Curso ID</th>\n",
       "      <th>Semestre</th>\n",
       "      <th>Ano</th>\n",
       "      <th>Prédio</th>\n",
       "    </tr>\n",
       "  </thead>\n",
       "  <tbody>\n",
       "    <tr>\n",
       "      <th>0</th>\n",
       "      <td>CS-101</td>\n",
       "      <td>Spring</td>\n",
       "      <td>2018</td>\n",
       "      <td>Packard</td>\n",
       "    </tr>\n",
       "  </tbody>\n",
       "</table>\n",
       "</div>"
      ],
      "text/plain": [
       "  Curso ID Semestre   Ano   Prédio\n",
       "0   CS-101   Spring  2018  Packard"
      ]
     },
     "execution_count": 238,
     "metadata": {},
     "output_type": "execute_result"
    }
   ],
   "source": [
    "def disciplina_cursos(course, semester):\n",
    "    # Cria a query\n",
    "    query = f'MATCH (s:section {{ course_id: \"{course}\", semester: \"{semester}\" }}) RETURN s;'\n",
    "    result, _, _ = driver.execute_query(query)\n",
    "    \n",
    "    # Lista para armazenar os dados\n",
    "    data = []\n",
    "\n",
    "    # Processa o resultado\n",
    "    for item in result:\n",
    "        course_id = item['s']['course_id']\n",
    "        semester = item['s']['semester']\n",
    "        year = item['s']['year']\n",
    "        building = item['s']['building']\n",
    "        data.append({'Curso ID': course_id, 'Semestre': semester, 'Ano': year, 'Prédio': building})\n",
    "\n",
    "    # Cria um dataframe a partir da lista de dados\n",
    "    df = pd.DataFrame(data)\n",
    "    \n",
    "    return df\n",
    "\n",
    "# Exemplo de uso\n",
    "df_resultado = disciplina_cursos(\"CS-101\", \"Spring\")\n",
    "df_resultado"
   ]
  },
  {
   "cell_type": "markdown",
   "metadata": {},
   "source": [
    "#### Questão 3 - Encontrar todos os estudantes que estão matriculados em um curso específico"
   ]
  },
  {
   "cell_type": "code",
   "execution_count": 239,
   "metadata": {},
   "outputs": [
    {
     "data": {
      "text/html": [
       "<div>\n",
       "<style scoped>\n",
       "    .dataframe tbody tr th:only-of-type {\n",
       "        vertical-align: middle;\n",
       "    }\n",
       "\n",
       "    .dataframe tbody tr th {\n",
       "        vertical-align: top;\n",
       "    }\n",
       "\n",
       "    .dataframe thead th {\n",
       "        text-align: right;\n",
       "    }\n",
       "</style>\n",
       "<table border=\"1\" class=\"dataframe\">\n",
       "  <thead>\n",
       "    <tr style=\"text-align: right;\">\n",
       "      <th></th>\n",
       "      <th>Estudante ID</th>\n",
       "      <th>Curso ID</th>\n",
       "    </tr>\n",
       "  </thead>\n",
       "  <tbody>\n",
       "    <tr>\n",
       "      <th>0</th>\n",
       "      <td>00128</td>\n",
       "      <td>CS-101</td>\n",
       "    </tr>\n",
       "    <tr>\n",
       "      <th>1</th>\n",
       "      <td>12345</td>\n",
       "      <td>CS-101</td>\n",
       "    </tr>\n",
       "    <tr>\n",
       "      <th>2</th>\n",
       "      <td>45678</td>\n",
       "      <td>CS-101</td>\n",
       "    </tr>\n",
       "    <tr>\n",
       "      <th>3</th>\n",
       "      <td>45678</td>\n",
       "      <td>CS-101</td>\n",
       "    </tr>\n",
       "    <tr>\n",
       "      <th>4</th>\n",
       "      <td>54321</td>\n",
       "      <td>CS-101</td>\n",
       "    </tr>\n",
       "    <tr>\n",
       "      <th>5</th>\n",
       "      <td>76543</td>\n",
       "      <td>CS-101</td>\n",
       "    </tr>\n",
       "    <tr>\n",
       "      <th>6</th>\n",
       "      <td>98765</td>\n",
       "      <td>CS-101</td>\n",
       "    </tr>\n",
       "  </tbody>\n",
       "</table>\n",
       "</div>"
      ],
      "text/plain": [
       "  Estudante ID Curso ID\n",
       "0        00128   CS-101\n",
       "1        12345   CS-101\n",
       "2        45678   CS-101\n",
       "3        45678   CS-101\n",
       "4        54321   CS-101\n",
       "5        76543   CS-101\n",
       "6        98765   CS-101"
      ]
     },
     "execution_count": 239,
     "metadata": {},
     "output_type": "execute_result"
    }
   ],
   "source": [
    "def estudantes_curso(course):\n",
    "    # Cria a query\n",
    "    query = f\"MATCH t=()-[:TAKES]->({{ course_id: '{course}' }}) RETURN t;\"\n",
    "    result, summary, keys = driver.execute_query(query)\n",
    "    \n",
    "    # Lista para armazenar os dados\n",
    "    data = []\n",
    "\n",
    "    # Processa o resultado\n",
    "    for item in result:\n",
    "        # Supondo que o relacionamento :TAKES conecte um nó de estudante a um nó de curso\n",
    "        relationship = item['t'].relationships[0]\n",
    "        student_node = item['t'].start_node\n",
    "        course_node = item['t'].end_node\n",
    "        student_id = student_node['id']\n",
    "        course_id = course_node['course_id']\n",
    "        data.append({'Estudante ID': student_id, 'Curso ID': course_id})\n",
    "\n",
    "    # Cria um dataframe a partir da lista de dados\n",
    "    df = pd.DataFrame(data)\n",
    "    \n",
    "    return df\n",
    "\n",
    "# Exemplo de uso\n",
    "df_resultado = estudantes_curso(\"CS-101\")\n",
    "df_resultado"
   ]
  },
  {
   "cell_type": "markdown",
   "metadata": {},
   "source": [
    "#### Questão 4 - Listar a média de salários de todos os professores em um determinado departamento"
   ]
  },
  {
   "cell_type": "code",
   "execution_count": 240,
   "metadata": {},
   "outputs": [
    {
     "data": {
      "text/html": [
       "<div>\n",
       "<style scoped>\n",
       "    .dataframe tbody tr th:only-of-type {\n",
       "        vertical-align: middle;\n",
       "    }\n",
       "\n",
       "    .dataframe tbody tr th {\n",
       "        vertical-align: top;\n",
       "    }\n",
       "\n",
       "    .dataframe thead th {\n",
       "        text-align: right;\n",
       "    }\n",
       "</style>\n",
       "<table border=\"1\" class=\"dataframe\">\n",
       "  <thead>\n",
       "    <tr style=\"text-align: right;\">\n",
       "      <th></th>\n",
       "      <th>Departamento</th>\n",
       "      <th>Média Salarial</th>\n",
       "    </tr>\n",
       "  </thead>\n",
       "  <tbody>\n",
       "    <tr>\n",
       "      <th>0</th>\n",
       "      <td>Comp. Sci.</td>\n",
       "      <td>77333.333333</td>\n",
       "    </tr>\n",
       "  </tbody>\n",
       "</table>\n",
       "</div>"
      ],
      "text/plain": [
       "  Departamento  Média Salarial\n",
       "0   Comp. Sci.    77333.333333"
      ]
     },
     "execution_count": 240,
     "metadata": {},
     "output_type": "execute_result"
    }
   ],
   "source": [
    "def media_salario(department_name):\n",
    "    # Cria a query\n",
    "    query = f\"MATCH (s:instructor) WHERE s.dept_name = '{department_name}' RETURN avg(s.salary) as media_salarial;\"\n",
    "    \n",
    "    # Executa a query\n",
    "    result, _, _ = driver.execute_query(query)\n",
    "    \n",
    "    # Lista para armazenar os dados\n",
    "    data = []\n",
    "\n",
    "    # Processa o resultado\n",
    "    for item in result:\n",
    "        media_salarial = item['media_salarial']\n",
    "        data.append({'Departamento': department_name, 'Média Salarial': media_salarial})\n",
    "\n",
    "    # Cria um dataframe a partir da lista de dados\n",
    "    df = pd.DataFrame(data)\n",
    "    \n",
    "    return df\n",
    "\n",
    "# Exemplo de uso\n",
    "df_resultado = media_salario(\"Comp. Sci.\")\n",
    "df_resultado"
   ]
  },
  {
   "cell_type": "markdown",
   "metadata": {},
   "source": [
    "#### Questão 5 - Recuperar o número total de créditos obtidos por um estudante específico"
   ]
  },
  {
   "cell_type": "code",
   "execution_count": 241,
   "metadata": {},
   "outputs": [
    {
     "data": {
      "text/html": [
       "<div>\n",
       "<style scoped>\n",
       "    .dataframe tbody tr th:only-of-type {\n",
       "        vertical-align: middle;\n",
       "    }\n",
       "\n",
       "    .dataframe tbody tr th {\n",
       "        vertical-align: top;\n",
       "    }\n",
       "\n",
       "    .dataframe thead th {\n",
       "        text-align: right;\n",
       "    }\n",
       "</style>\n",
       "<table border=\"1\" class=\"dataframe\">\n",
       "  <thead>\n",
       "    <tr style=\"text-align: right;\">\n",
       "      <th></th>\n",
       "      <th>Nome do Estudante</th>\n",
       "      <th>Total de Créditos</th>\n",
       "    </tr>\n",
       "  </thead>\n",
       "  <tbody>\n",
       "    <tr>\n",
       "      <th>0</th>\n",
       "      <td>Zhang</td>\n",
       "      <td>102</td>\n",
       "    </tr>\n",
       "  </tbody>\n",
       "</table>\n",
       "</div>"
      ],
      "text/plain": [
       "  Nome do Estudante  Total de Créditos\n",
       "0             Zhang                102"
      ]
     },
     "execution_count": 241,
     "metadata": {},
     "output_type": "execute_result"
    }
   ],
   "source": [
    "import pandas as pd\n",
    "from neo4j import GraphDatabase\n",
    "\n",
    "# Função para buscar dados e retornar um dataframe\n",
    "def credito_estudante(student_name):\n",
    "    # Cria a query\n",
    "    query = f\"MATCH (s:student) WHERE s.name = '{student_name}' RETURN s;\"\n",
    "    \n",
    "    # Executa a query\n",
    "    result, summary, keys = driver.execute_query(query)\n",
    "    \n",
    "    # Lista para armazenar os dados\n",
    "    data = []\n",
    "\n",
    "    # Processa o resultado\n",
    "    for item in result:\n",
    "        student_name = item['s']['name']\n",
    "        total_cred = item['s']['tot_cred']\n",
    "        data.append({'Nome do Estudante': student_name, 'Total de Créditos': total_cred})\n",
    "\n",
    "    # Cria um dataframe a partir da lista de dados\n",
    "    df = pd.DataFrame(data)\n",
    "    \n",
    "    return df\n",
    "\n",
    "# Exemplo de uso\n",
    "df_resultado = credito_estudante(\"Zhang\")\n",
    "df_resultado"
   ]
  },
  {
   "cell_type": "markdown",
   "metadata": {},
   "source": [
    "#### Questão 6 - Encontrar todas as disciplinas ministradas por um professor em um semestre específico"
   ]
  },
  {
   "cell_type": "code",
   "execution_count": null,
   "metadata": {},
   "outputs": [],
   "source": []
  },
  {
   "cell_type": "markdown",
   "metadata": {},
   "source": [
    "#### Questão 7 - Listar todos os estudantes que têm um determinado professor como orientador"
   ]
  },
  {
   "cell_type": "code",
   "execution_count": 242,
   "metadata": {},
   "outputs": [
    {
     "data": {
      "text/html": [
       "<div>\n",
       "<style scoped>\n",
       "    .dataframe tbody tr th:only-of-type {\n",
       "        vertical-align: middle;\n",
       "    }\n",
       "\n",
       "    .dataframe tbody tr th {\n",
       "        vertical-align: top;\n",
       "    }\n",
       "\n",
       "    .dataframe thead th {\n",
       "        text-align: right;\n",
       "    }\n",
       "</style>\n",
       "<table border=\"1\" class=\"dataframe\">\n",
       "  <thead>\n",
       "    <tr style=\"text-align: right;\">\n",
       "      <th></th>\n",
       "      <th>Nome do Instrutor</th>\n",
       "      <th>Nome do Estudante</th>\n",
       "    </tr>\n",
       "  </thead>\n",
       "  <tbody>\n",
       "    <tr>\n",
       "      <th>0</th>\n",
       "      <td>Katz</td>\n",
       "      <td>Zhang</td>\n",
       "    </tr>\n",
       "    <tr>\n",
       "      <th>1</th>\n",
       "      <td>Katz</td>\n",
       "      <td>Brown</td>\n",
       "    </tr>\n",
       "  </tbody>\n",
       "</table>\n",
       "</div>"
      ],
      "text/plain": [
       "  Nome do Instrutor Nome do Estudante\n",
       "0              Katz             Zhang\n",
       "1              Katz             Brown"
      ]
     },
     "execution_count": 242,
     "metadata": {},
     "output_type": "execute_result"
    }
   ],
   "source": [
    "def estudantes_orientados_professor(instructor_name):\n",
    "    # Cria a query\n",
    "    query = f\"MATCH p=({{name: '{instructor_name}'}})-[:ADVISOR]->() RETURN p;\"\n",
    "    result, summary, keys = driver.execute_query(query)\n",
    "    \n",
    "    # Lista para armazenar os dados\n",
    "    data = []\n",
    "\n",
    "    # Processa o resultado\n",
    "    for item in result:\n",
    "        # Supondo que o relacionamento :ADVISOR conecte um nó de instrutor a um nó de estudante\n",
    "        relationship = item['p'].relationships[0]\n",
    "        instructor_node = item['p'].start_node\n",
    "        student_node = item['p'].end_node\n",
    "        instructor_name = instructor_node['name']\n",
    "        student_name = student_node['name']\n",
    "        data.append({'Nome do Instrutor': instructor_name, 'Nome do Estudante': student_name})\n",
    "\n",
    "    # Cria um dataframe a partir da lista de dados\n",
    "    df = pd.DataFrame(data)\n",
    "    \n",
    "    return df\n",
    "\n",
    "# Exemplo de uso\n",
    "df_resultado = estudantes_orientados_professor('Katz')\n",
    "df_resultado"
   ]
  },
  {
   "cell_type": "markdown",
   "metadata": {},
   "source": [
    "#### Questão 8 - Recuperar todas as salas de aula sem um curso associado"
   ]
  },
  {
   "cell_type": "code",
   "execution_count": null,
   "metadata": {},
   "outputs": [],
   "source": []
  },
  {
   "cell_type": "markdown",
   "metadata": {},
   "source": [
    "#### Questão 9 - Encontrar todos os pré-requisitos de um curso específico"
   ]
  },
  {
   "cell_type": "code",
   "execution_count": null,
   "metadata": {},
   "outputs": [],
   "source": []
  },
  {
   "cell_type": "markdown",
   "metadata": {},
   "source": [
    "#### Questão 10 - Recuperar a quantidade de alunos orientados por cada professor"
   ]
  },
  {
   "cell_type": "code",
   "execution_count": 243,
   "metadata": {},
   "outputs": [
    {
     "data": {
      "text/html": [
       "<div>\n",
       "<style scoped>\n",
       "    .dataframe tbody tr th:only-of-type {\n",
       "        vertical-align: middle;\n",
       "    }\n",
       "\n",
       "    .dataframe tbody tr th {\n",
       "        vertical-align: top;\n",
       "    }\n",
       "\n",
       "    .dataframe thead th {\n",
       "        text-align: right;\n",
       "    }\n",
       "</style>\n",
       "<table border=\"1\" class=\"dataframe\">\n",
       "  <thead>\n",
       "    <tr style=\"text-align: right;\">\n",
       "      <th></th>\n",
       "      <th>Nome do Instrutor</th>\n",
       "      <th>Nome do Estudante</th>\n",
       "    </tr>\n",
       "  </thead>\n",
       "  <tbody>\n",
       "    <tr>\n",
       "      <th>0</th>\n",
       "      <td>Katz</td>\n",
       "      <td>Zhang</td>\n",
       "    </tr>\n",
       "    <tr>\n",
       "      <th>1</th>\n",
       "      <td>Katz</td>\n",
       "      <td>Brown</td>\n",
       "    </tr>\n",
       "  </tbody>\n",
       "</table>\n",
       "</div>"
      ],
      "text/plain": [
       "  Nome do Instrutor Nome do Estudante\n",
       "0              Katz             Zhang\n",
       "1              Katz             Brown"
      ]
     },
     "execution_count": 243,
     "metadata": {},
     "output_type": "execute_result"
    }
   ],
   "source": [
    "import pandas as pd\n",
    "from neo4j import GraphDatabase\n",
    "\n",
    "# Função para buscar dados e retornar um dataframe\n",
    "def orientandos(instructor):\n",
    "    # Cria a query\n",
    "    query = f\"MATCH p=({{ name: '{instructor}' }})-[:ADVISOR]->() RETURN p;\"\n",
    "    result, summary, keys = driver.execute_query(query)\n",
    "    \n",
    "    # Lista para armazenar os dados\n",
    "    data = []\n",
    "\n",
    "    # Processa o resultado\n",
    "    for item in result:\n",
    "        # Supondo que o relacionamento :ADVISOR conecte um nó de instrutor a um nó de estudante\n",
    "        relationship = item['p'].relationships[0]\n",
    "        instructor_node = item['p'].start_node\n",
    "        student_node = item['p'].end_node\n",
    "        instructor_name = instructor_node['name']\n",
    "        student_name = student_node['name']\n",
    "        data.append({'Nome do Instrutor': instructor_name, 'Nome do Estudante': student_name})\n",
    "\n",
    "    # Cria um dataframe a partir da lista de dados\n",
    "    df = pd.DataFrame(data)\n",
    "    \n",
    "    return df\n",
    "\n",
    "# Exemplo de uso\n",
    "df_resultado = orientandos('Katz')\n",
    "df_resultado"
   ]
  }
 ],
 "metadata": {
  "kernelspec": {
   "display_name": "Python 3",
   "language": "python",
   "name": "python3"
  },
  "language_info": {
   "codemirror_mode": {
    "name": "ipython",
    "version": 3
   },
   "file_extension": ".py",
   "mimetype": "text/x-python",
   "name": "python",
   "nbconvert_exporter": "python",
   "pygments_lexer": "ipython3",
   "version": "3.9.6"
  }
 },
 "nbformat": 4,
 "nbformat_minor": 2
}
