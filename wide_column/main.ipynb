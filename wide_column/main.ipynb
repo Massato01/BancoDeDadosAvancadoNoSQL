{
 "cells": [
  {
   "cell_type": "code",
   "execution_count": 1,
   "metadata": {},
   "outputs": [],
   "source": [
    "import socket\n",
    "import pandas as pd\n",
    "import subprocess\n",
    "from cassandra.cluster import Cluster\n",
    "from time import sleep\n",
    "from sqlalchemy           import create_engine, text\n",
    "from sqlalchemy.orm       import sessionmaker\n",
    "from sqlalchemy           import URL\n",
    "from pymongo.mongo_client import MongoClient\n",
    "from pymongo.server_api   import ServerApi"
   ]
  },
  {
   "cell_type": "markdown",
   "metadata": {},
   "source": [
    "### Conectando ao Cassandra"
   ]
  },
  {
   "cell_type": "code",
   "execution_count": 2,
   "metadata": {},
   "outputs": [],
   "source": [
    "hostname = socket.gethostname()\n",
    "ip_address = socket.gethostbyname(hostname)\n",
    "port = 9042\n",
    "\n",
    "cluster = Cluster([ip_address], port=port)\n",
    "session = cluster.connect('cc6240')"
   ]
  },
  {
   "cell_type": "markdown",
   "metadata": {},
   "source": [
    "### Funções"
   ]
  },
  {
   "cell_type": "markdown",
   "metadata": {},
   "source": [
    "#### Create"
   ]
  },
  {
   "cell_type": "code",
   "execution_count": 19,
   "metadata": {},
   "outputs": [],
   "source": [
    "def criar_tabelas():\n",
    "    # [Exemplo] student e instructor\n",
    "    session.execute(\"CREATE TABLE instructor (name text, dept_name text, salary double, primary key((name), dept_name));\")\n",
    "    session.execute(\"CREATE TABLE student (name text, dept_name text, tot_cred tinyint, advisor text, primary key((name), dept_name));\")\n",
    "    \n",
    "    # course_department\n",
    "    session.execute(\"CREATE TABLE course_department (dept_name text, building text, budget text, course_id text, title text, credits text, PRIMARY KEY (dept_name, course_id, title));\")\n",
    "\n",
    "    # course\n",
    "    session.execute(\"CREATE TABLE course (course_id text, title text, dept_name text, credits text, PRIMARY KEY((course_id), dept_name));\")\n",
    "    \n",
    "    # section\n",
    "    session.execute(\"CREATE TABLE section (course_id text, sec_id text, semester text, year text, building text, room_number text, time_slot_id text, title text, PRIMARY KEY ((course_id), sec_id, semester, year));\")\n",
    "    session.execute(\"CREATE INDEX ON section(semester);\")\n",
    "    \n",
    "    # students_course\n",
    "    session.execute(\"CREATE TABLE students_course (dept_name text, building text, budget text, course_id text, title text, credits text, id text, name text, tot_cred  text, PRIMARY KEY ((name), title, dept_name));\")\n",
    "    session.execute(\"CREATE INDEX ON students_course(title);\")\n",
    "\n",
    "    # students_teaches\n",
    "    session.execute(\"CREATE TABLE students_teaches (id_instructor text, name text, salary text, id_student text, name_student text, dept_name text, tot_cred text, PRIMARY KEY ((name),  name_student, dept_name));\")"
   ]
  },
  {
   "cell_type": "markdown",
   "metadata": {},
   "source": [
    "#### Insert"
   ]
  },
  {
   "cell_type": "code",
   "execution_count": 4,
   "metadata": {},
   "outputs": [],
   "source": [
    "def completar_tabelas_teste():\n",
    "    # student e instructor\n",
    "    session.execute(\"INSERT INTO cc6240.student  (name, dept_name, tot_cred, advisor) values('Schrefl', 'History', 4, 'Moreira');\")\n",
    "    session.execute(\"INSERT INTO cc6240.instructor (name, dept_name, salary) VALUES('McKinnon', 'Cybernetics', 94333.99);\")\n",
    "\n",
    "    "
   ]
  },
  {
   "cell_type": "markdown",
   "metadata": {},
   "source": [
    "#### Delete"
   ]
  },
  {
   "cell_type": "code",
   "execution_count": 5,
   "metadata": {},
   "outputs": [],
   "source": [
    "def limpar_tabela(tabela):\n",
    "    if tabela == 'student':\n",
    "        students = session.execute('SELECT name FROM student;')\n",
    "        for s in students:\n",
    "            session.execute(f\"DELETE FROM {tabela} WHERE name = '{s[0]}';\")\n",
    "\n",
    "    elif tabela == 'instructor':\n",
    "        instructor = session.execute('SELECT name FROM instructor;')\n",
    "        for i in instructor:\n",
    "            session.execute(f\"DELETE FROM {tabela} WHERE name = '{i[0]}';\")\n",
    "    \n",
    "    elif tabela == 'course_department':\n",
    "        course_department = session.execute('SELECT dept_name FROM course_department;')\n",
    "        for i in course_department:\n",
    "            session.execute(f\"DELETE FROM {tabela} WHERE dept_name = '{i[0]}';\")\n",
    "    \n",
    "    elif tabela == 'section':\n",
    "        course_id = session.execute('SELECT course_id FROM section;')\n",
    "        for i in course_id:\n",
    "            session.execute(f\"DELETE FROM {tabela} WHERE course_id = '{i[0]}';\")\n",
    "            \n",
    "    elif tabela == 'students_course':\n",
    "        name = session.execute('SELECT name FROM students_course;')\n",
    "        for i in name:\n",
    "            session.execute(f\"DELETE FROM {tabela} WHERE name = '{i[0]}';\")\n",
    "\n",
    "    elif tabela == 'students_teaches':\n",
    "        name = session.execute('SELECT name FROM students_teaches;')\n",
    "        for i in name:\n",
    "            session.execute(f\"DELETE FROM {tabela} WHERE name = '{i[0]}';\")\n",
    "\n",
    "def deletar_tabela(tabela):\n",
    "    try:\n",
    "        session.execute(f'DROP TABLE {tabela};')\n",
    "    except:\n",
    "        print(f'Tabela \"{tabela}\" não encontrada!')\n",
    "        pass"
   ]
  },
  {
   "cell_type": "markdown",
   "metadata": {},
   "source": [
    "#### Outras funções"
   ]
  },
  {
   "cell_type": "code",
   "execution_count": 6,
   "metadata": {},
   "outputs": [],
   "source": [
    "def listar_colunas(tabela):\n",
    "    instructor = session.execute(f'select * from {tabela};')\n",
    "    for i in instructor:\n",
    "        print(i)\n",
    "\n",
    "def selecionar_instrutor(nomes=[]):\n",
    "    prepared_statement = session.prepare(\"select * from instructor where name = ?;\")\n",
    "    for i in nomes:\n",
    "        intructor = session.execute(prepared_statement, [i]).one()\n",
    "        print(intructor)\n",
    "\n",
    "def inserir_dados(name, dept_name, advisor, tot_cred):\n",
    "    session.execute(f\"INSERT INTO student (name, dept_name, advisor, tot_cred) VALUES ('{name}', '{dept_name}', '{advisor}', {tot_cred});\")"
   ]
  },
  {
   "cell_type": "markdown",
   "metadata": {},
   "source": [
    "### Conectando ao Postgres"
   ]
  },
  {
   "cell_type": "code",
   "execution_count": 7,
   "metadata": {},
   "outputs": [],
   "source": [
    "url_object = URL.create(\n",
    "    \"postgresql+pg8000\",\n",
    "    username=\"dcxhxgql\",\n",
    "    password=\"bPlk_dl7Xc4l0WEaPCJIYR4dnO9kGZbz\",\n",
    "    host=\"motty.db.elephantsql.com\",\n",
    "    database=\"dcxhxgql\",\n",
    ")\n",
    "\n",
    "engine = create_engine(url_object)\n",
    "engine = create_engine(url_object)\n",
    "Session = sessionmaker(bind=engine)\n",
    "session_postgres = Session()\n",
    "conn = engine.connect()"
   ]
  },
  {
   "cell_type": "markdown",
   "metadata": {},
   "source": [
    "### Configurando as tabelas do Cassandra"
   ]
  },
  {
   "cell_type": "code",
   "execution_count": 20,
   "metadata": {},
   "outputs": [],
   "source": [
    "deletar_tabela('student')\n",
    "deletar_tabela('instructor')\n",
    "deletar_tabela('course_department')\n",
    "deletar_tabela('section')\n",
    "deletar_tabela('students_course')\n",
    "deletar_tabela('students_teaches')\n",
    "deletar_tabela('course')"
   ]
  },
  {
   "cell_type": "code",
   "execution_count": 21,
   "metadata": {},
   "outputs": [],
   "source": [
    "criar_tabelas()"
   ]
  },
  {
   "cell_type": "markdown",
   "metadata": {},
   "source": [
    "#### Inserindo dados nas tabelas"
   ]
  },
  {
   "cell_type": "code",
   "execution_count": 10,
   "metadata": {},
   "outputs": [],
   "source": [
    "limpar_tabela('course_department')\n",
    "\n",
    "query = \"\"\"\n",
    "SELECT \n",
    "    *\n",
    "FROM\n",
    "    department d \n",
    "JOIN\n",
    "    course c on d.dept_name = c.dept_name;\n",
    "\"\"\"\n",
    "cursos = conn.execute(text(query)).all()\n",
    "\n",
    "cursos_dept_cassandra = []\n",
    "\t\t\n",
    "for curso in cursos:\n",
    "    query = f\"INSERT INTO course_department(dept_name, building, budget, course_id, title, credits) VALUES (%s, %s, %s, %s, %s, %s);\"\n",
    "    session.execute(query, (curso[0], curso[1], curso[2], curso[3], curso[4], curso[6]))\n",
    "    cursos_dept_cassandra.append(curso)\n",
    "\n",
    "session_postgres.close()"
   ]
  },
  {
   "cell_type": "code",
   "execution_count": 22,
   "metadata": {},
   "outputs": [],
   "source": [
    "limpar_tabela('section')\n",
    "\n",
    "query = \"\"\"\n",
    "SELECT \n",
    "    s.course_id,\n",
    "    s.sec_id,\n",
    "    s.semester,\n",
    "    s.year,\n",
    "    s.building,\n",
    "    s.room_number,\n",
    "    s.time_slot_id,\n",
    "    c.title\n",
    "FROM\n",
    "    section s\n",
    "JOIN\n",
    "    course c ON s.course_id = c.course_id;\n",
    "\"\"\"\n",
    "\n",
    "sections = conn.execute(text(query)).all()\n",
    "\n",
    "section_cassandra = []\n",
    "\t\n",
    "for section in sections:\n",
    "    query = f\"INSERT INTO section(course_id, sec_id, semester, year, building, room_number, time_slot_id, title) VALUES (%s, %s, %s, %s, %s, %s, %s, %s);\"\n",
    "    session.execute(query, (section[0], section[1], section[2], section[3], section[4], section[5], section[6], section[7]))\n",
    "    section_cassandra.append(section)\n",
    "\n",
    "session_postgres.close()"
   ]
  },
  {
   "cell_type": "code",
   "execution_count": 12,
   "metadata": {},
   "outputs": [],
   "source": [
    "limpar_tabela('students_course')\n",
    "\n",
    "query = \"\"\"\n",
    "SELECT\n",
    "    d.dept_name,\n",
    "    d.building,\n",
    "    d.budget,\n",
    "    c.course_id,\n",
    "    c.title,\n",
    "    c.credits,\n",
    "    s.id,\n",
    "    s.name,\n",
    "    s.tot_cred \n",
    "FROM\n",
    "    department d  \n",
    "JOIN\n",
    "    course c on d.dept_name = c.dept_name \n",
    "JOIN\n",
    "    student s on c.dept_name = s.dept_name;\n",
    "\"\"\"\n",
    "stud_course = conn.execute(text(query)).all()\n",
    "\n",
    "stud_course_cassandra = []\n",
    "\t\t\n",
    "for stud in stud_course:\n",
    "    query = f\"INSERT INTO students_course(dept_name, building, budget, course_id, title, credits, id, name, tot_cred) VALUES (%s, %s, %s, %s, %s, %s, %s, %s, %s);\"\n",
    "    session.execute(query, (stud[0], stud[1], stud[2], stud[3], stud[4], stud[5], stud[6], stud[7], stud[8]))\n",
    "    stud_course_cassandra.append(stud)\n",
    "\n",
    "session_postgres.close()"
   ]
  },
  {
   "cell_type": "code",
   "execution_count": 13,
   "metadata": {},
   "outputs": [],
   "source": [
    "limpar_tabela('students_teaches')\n",
    "\n",
    "query = \"\"\"\n",
    "SELECT\n",
    "    i.id AS id_instructor,\n",
    "    i.name,\n",
    "    i.salary,\n",
    "    s.id AS id_student,\n",
    "    s.name,\n",
    "    s.dept_name,\n",
    "    s.tot_cred\n",
    "FROM\n",
    "    instructor i\n",
    "JOIN\n",
    "    student s on i.dept_name = s.dept_name;\n",
    "\"\"\"\n",
    "stud_teach = conn.execute(text(query)).all()\n",
    "\n",
    "stud_teach_cassandra = []\n",
    "\t\t\n",
    "for stud in stud_teach:\n",
    "    query = f\"INSERT INTO students_teaches(id_instructor, name, salary, id_student, name_student, dept_name, tot_cred) VALUES (%s, %s, %s, %s, %s, %s, %s);\"\n",
    "    session.execute(query, (stud[0], stud[1], stud[2], stud[3], stud[4], stud[5], stud[6]))\n",
    "    stud_teach_cassandra.append(stud)\n",
    "\n",
    "session_postgres.close()"
   ]
  },
  {
   "cell_type": "markdown",
   "metadata": {},
   "source": [
    "### Questões"
   ]
  },
  {
   "cell_type": "markdown",
   "metadata": {},
   "source": [
    "#### Questão 1 - Listar todos os cursos oferecidos por um determinado departamento"
   ]
  },
  {
   "cell_type": "code",
   "execution_count": 14,
   "metadata": {},
   "outputs": [
    {
     "data": {
      "text/html": [
       "<div>\n",
       "<style scoped>\n",
       "    .dataframe tbody tr th:only-of-type {\n",
       "        vertical-align: middle;\n",
       "    }\n",
       "\n",
       "    .dataframe tbody tr th {\n",
       "        vertical-align: top;\n",
       "    }\n",
       "\n",
       "    .dataframe thead th {\n",
       "        text-align: right;\n",
       "    }\n",
       "</style>\n",
       "<table border=\"1\" class=\"dataframe\">\n",
       "  <thead>\n",
       "    <tr style=\"text-align: right;\">\n",
       "      <th></th>\n",
       "      <th>course_id</th>\n",
       "      <th>title</th>\n",
       "      <th>credits</th>\n",
       "    </tr>\n",
       "  </thead>\n",
       "  <tbody>\n",
       "    <tr>\n",
       "      <th>0</th>\n",
       "      <td>CS-101</td>\n",
       "      <td>Intro. to Computer Science</td>\n",
       "      <td>4</td>\n",
       "    </tr>\n",
       "    <tr>\n",
       "      <th>1</th>\n",
       "      <td>CS-190</td>\n",
       "      <td>Game Design</td>\n",
       "      <td>4</td>\n",
       "    </tr>\n",
       "    <tr>\n",
       "      <th>2</th>\n",
       "      <td>CS-315</td>\n",
       "      <td>Robotics</td>\n",
       "      <td>3</td>\n",
       "    </tr>\n",
       "    <tr>\n",
       "      <th>3</th>\n",
       "      <td>CS-319</td>\n",
       "      <td>Image Processing</td>\n",
       "      <td>3</td>\n",
       "    </tr>\n",
       "    <tr>\n",
       "      <th>4</th>\n",
       "      <td>CS-347</td>\n",
       "      <td>Database System Concepts</td>\n",
       "      <td>3</td>\n",
       "    </tr>\n",
       "  </tbody>\n",
       "</table>\n",
       "</div>"
      ],
      "text/plain": [
       "  course_id                       title credits\n",
       "0    CS-101  Intro. to Computer Science       4\n",
       "1    CS-190                 Game Design       4\n",
       "2    CS-315                    Robotics       3\n",
       "3    CS-319            Image Processing       3\n",
       "4    CS-347    Database System Concepts       3"
      ]
     },
     "execution_count": 14,
     "metadata": {},
     "output_type": "execute_result"
    }
   ],
   "source": [
    "def cursos_por_departamento(dept):\n",
    "    cursos = session.execute(f\"SELECT course_id, title, credits FROM course_department WHERE dept_name = '{dept}';\")\n",
    "    \n",
    "    # Criar o DataFrame diretamente\n",
    "    df = pd.DataFrame(cursos, columns=['course_id', 'title', 'credits'])\n",
    "    \n",
    "    return df\n",
    "\n",
    "# Chamando a função e exibindo o DataFrame\n",
    "df = cursos_por_departamento('Comp. Sci.')\n",
    "df"
   ]
  },
  {
   "cell_type": "markdown",
   "metadata": {},
   "source": [
    "#### Questão 2 - Recuperar todas as disciplinas de um curso específico em um determinado semestre"
   ]
  },
  {
   "cell_type": "code",
   "execution_count": 28,
   "metadata": {},
   "outputs": [
    {
     "data": {
      "text/html": [
       "<div>\n",
       "<style scoped>\n",
       "    .dataframe tbody tr th:only-of-type {\n",
       "        vertical-align: middle;\n",
       "    }\n",
       "\n",
       "    .dataframe tbody tr th {\n",
       "        vertical-align: top;\n",
       "    }\n",
       "\n",
       "    .dataframe thead th {\n",
       "        text-align: right;\n",
       "    }\n",
       "</style>\n",
       "<table border=\"1\" class=\"dataframe\">\n",
       "  <thead>\n",
       "    <tr style=\"text-align: right;\">\n",
       "      <th></th>\n",
       "      <th>course_id</th>\n",
       "      <th>title</th>\n",
       "      <th>semester</th>\n",
       "      <th>year</th>\n",
       "    </tr>\n",
       "  </thead>\n",
       "  <tbody>\n",
       "    <tr>\n",
       "      <th>0</th>\n",
       "      <td>CS-101</td>\n",
       "      <td>Fall</td>\n",
       "      <td>Intro. to Computer Science</td>\n",
       "      <td>2017</td>\n",
       "    </tr>\n",
       "  </tbody>\n",
       "</table>\n",
       "</div>"
      ],
      "text/plain": [
       "  course_id title                    semester  year\n",
       "0    CS-101  Fall  Intro. to Computer Science  2017"
      ]
     },
     "execution_count": 28,
     "metadata": {},
     "output_type": "execute_result"
    }
   ],
   "source": [
    "import pandas as pd\n",
    "\n",
    "def disciplinas_por_curso_e_semestre(curso, semestre):\n",
    "    # Consulta SQL para recuperar as disciplinas de um curso específico em um semestre específico\n",
    "    query = f\"\"\"\n",
    "    SELECT course_id, semester, title, year\n",
    "    FROM section\n",
    "    WHERE course_id = '{curso}' AND semester = '{semestre}';\n",
    "    \"\"\"\n",
    "    \n",
    "    # Executar a consulta SQL\n",
    "    disciplinas = session.execute(query)\n",
    "    \n",
    "    # Criar o DataFrame diretamente\n",
    "    df = pd.DataFrame(disciplinas, columns=['course_id', 'title', 'semester', 'year'])\n",
    "    \n",
    "    return df\n",
    "\n",
    "# Chamando a função para recuperar as disciplinas do curso CS-101 no semestre Fall de 2017\n",
    "df = disciplinas_por_curso_e_semestre('CS-101', 'Fall')\n",
    "df\n"
   ]
  },
  {
   "cell_type": "code",
   "execution_count": 16,
   "metadata": {},
   "outputs": [],
   "source": [
    "# Recuperar todas as disciplinas de um curso específico em um determinado semestre\n",
    "\n",
    "# section = session.execute(\"SELECT * FROM section;\")\n",
    "# for s in section:\n",
    "#     print(s)\n",
    "\n",
    "# Row(course_id='CS-347', sec_id='1', semester='Fall', year='2017', building='Taylor', room_number='3128', time_slot_id='A')\n",
    "# Row(course_id='MU-199', sec_id='1', semester='Spring', year='2018', building='Packard', room_number='101', time_slot_id='D')\n",
    "# Row(course_id='CS-101', sec_id='1', semester='Fall', year='2017', building='Packard', room_number='101', time_slot_id='H')\n",
    "# Row(course_id='CS-101', sec_id='1', semester='Spring', year='2018', building='Packard', room_number='101', time_slot_id='F')\n",
    "# Row(course_id='FIN-201', sec_id='1', semester='Spring', year='2018', building='Packard', room_number='101', time_slot_id='B')\n",
    "# Row(course_id='CS-319', sec_id='1', semester='Spring', year='2018', building='Watson', room_number='100', time_slot_id='B')\n",
    "# Row(course_id='CS-319', sec_id='2', semester='Spring', year='2018', building='Taylor', room_number='3128', time_slot_id='C')\n",
    "# Row(course_id='PHY-101', sec_id='1', semester='Fall', year='2017', building='Watson', room_number='100', time_slot_id='A')\n",
    "# Row(course_id='BIO-101', sec_id='1', semester='Summer', year='2017', building='Painter', room_number='514', time_slot_id='B')\n",
    "# Row(course_id='CS-315', sec_id='1', semester='Spring', year='2018', building='Watson', room_number='120', time_slot_id='D')\n",
    "# Row(course_id='HIS-351', sec_id='1', semester='Spring', year='2018', building='Painter', room_number='514', time_slot_id='C')\n",
    "# Row(course_id='BIO-301', sec_id='1', semester='Summer', year='2018', building='Painter', room_number='514', time_slot_id='A')\n",
    "# Row(course_id='EE-181', sec_id='1', semester='Spring', year='2017', building='Taylor', room_number='3128', time_slot_id='C')\n",
    "# Row(course_id='CS-190', sec_id='1', semester='Spring', year='2017', building='Taylor', room_number='3128', time_slot_id='E')\n",
    "# Row(course_id='CS-190', sec_id='2', semester='Spring', year='2017', building='Taylor', room_number='3128', time_slot_id='A')"
   ]
  }
 ],
 "metadata": {
  "kernelspec": {
   "display_name": "Python 3",
   "language": "python",
   "name": "python3"
  },
  "language_info": {
   "codemirror_mode": {
    "name": "ipython",
    "version": 3
   },
   "file_extension": ".py",
   "mimetype": "text/x-python",
   "name": "python",
   "nbconvert_exporter": "python",
   "pygments_lexer": "ipython3",
   "version": "3.9.7"
  }
 },
 "nbformat": 4,
 "nbformat_minor": 2
}
