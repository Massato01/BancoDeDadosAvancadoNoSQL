{
 "cells": [
  {
   "cell_type": "code",
   "execution_count": 1,
   "metadata": {},
   "outputs": [
    {
     "name": "stdout",
     "output_type": "stream",
     "text": [
      "Collecting cassandra-driver\n",
      "  Downloading cassandra_driver-3.29.1-cp39-cp39-win_amd64.whl.metadata (6.0 kB)\n",
      "Collecting geomet<0.3,>=0.1 (from cassandra-driver)\n",
      "  Downloading geomet-0.2.1.post1-py3-none-any.whl.metadata (1.0 kB)\n",
      "Requirement already satisfied: click in c:\\users\\massa\\appdata\\local\\programs\\python\\python39\\lib\\site-packages (from geomet<0.3,>=0.1->cassandra-driver) (8.0.4)\n",
      "Requirement already satisfied: six in c:\\users\\massa\\appdata\\local\\programs\\python\\python39\\lib\\site-packages (from geomet<0.3,>=0.1->cassandra-driver) (1.16.0)\n",
      "Requirement already satisfied: colorama in c:\\users\\massa\\appdata\\local\\programs\\python\\python39\\lib\\site-packages (from click->geomet<0.3,>=0.1->cassandra-driver) (0.4.4)\n",
      "Downloading cassandra_driver-3.29.1-cp39-cp39-win_amd64.whl (2.9 MB)\n",
      "   ---------------------------------------- 2.9/2.9 MB 8.7 MB/s eta 0:00:00\n",
      "Downloading geomet-0.2.1.post1-py3-none-any.whl (18 kB)\n",
      "Installing collected packages: geomet, cassandra-driver\n",
      "Successfully installed cassandra-driver-3.29.1 geomet-0.2.1.post1\n"
     ]
    }
   ],
   "source": [
    "!pip install cassandra-driver"
   ]
  },
  {
   "cell_type": "code",
   "execution_count": 2,
   "metadata": {},
   "outputs": [],
   "source": [
    "from cassandra.cluster import Cluster"
   ]
  },
  {
   "cell_type": "code",
   "execution_count": 6,
   "metadata": {},
   "outputs": [
    {
     "ename": "NoHostAvailable",
     "evalue": "('Unable to connect to any servers', {'0.0.0.0:9042': OSError(10049, \"Tried connecting to [('0.0.0.0', 9042)]. Last error: O endereço solicitado não é válido no contexto\")})",
     "output_type": "error",
     "traceback": [
      "\u001b[1;31m---------------------------------------------------------------------------\u001b[0m",
      "\u001b[1;31mNoHostAvailable\u001b[0m                           Traceback (most recent call last)",
      "\u001b[1;32m~\\AppData\\Local\\Temp/ipykernel_3772/3423167167.py\u001b[0m in \u001b[0;36m<module>\u001b[1;34m\u001b[0m\n\u001b[0;32m      1\u001b[0m \u001b[0mcluster\u001b[0m \u001b[1;33m=\u001b[0m \u001b[0mCluster\u001b[0m\u001b[1;33m(\u001b[0m\u001b[1;33m[\u001b[0m\u001b[1;34m'0.0.0.0'\u001b[0m\u001b[1;33m]\u001b[0m\u001b[1;33m,\u001b[0m \u001b[0mport\u001b[0m\u001b[1;33m=\u001b[0m\u001b[1;36m9042\u001b[0m\u001b[1;33m)\u001b[0m\u001b[1;33m\u001b[0m\u001b[1;33m\u001b[0m\u001b[0m\n\u001b[1;32m----> 2\u001b[1;33m \u001b[0msession\u001b[0m \u001b[1;33m=\u001b[0m \u001b[0mcluster\u001b[0m\u001b[1;33m.\u001b[0m\u001b[0mconnect\u001b[0m\u001b[1;33m(\u001b[0m\u001b[1;34m'instructor'\u001b[0m\u001b[1;33m)\u001b[0m\u001b[1;33m\u001b[0m\u001b[1;33m\u001b[0m\u001b[0m\n\u001b[0m\u001b[0;32m      3\u001b[0m \u001b[1;33m\u001b[0m\u001b[0m\n\u001b[0;32m      4\u001b[0m \u001b[0minstructor\u001b[0m \u001b[1;33m=\u001b[0m \u001b[0msession\u001b[0m\u001b[1;33m.\u001b[0m\u001b[0mexecute\u001b[0m\u001b[1;33m(\u001b[0m\u001b[1;34m'select * from instructor;'\u001b[0m\u001b[1;33m)\u001b[0m\u001b[1;33m\u001b[0m\u001b[1;33m\u001b[0m\u001b[0m\n\u001b[0;32m      5\u001b[0m \u001b[1;32mfor\u001b[0m \u001b[0mi\u001b[0m \u001b[1;32min\u001b[0m \u001b[0minstructor\u001b[0m\u001b[1;33m:\u001b[0m\u001b[1;33m\u001b[0m\u001b[1;33m\u001b[0m\u001b[0m\n",
      "\u001b[1;32mc:\\Users\\massa\\AppData\\Local\\Programs\\Python\\Python39\\lib\\site-packages\\cassandra\\cluster.cp39-win_amd64.pyd\u001b[0m in \u001b[0;36mcassandra.cluster.Cluster.connect\u001b[1;34m()\u001b[0m\n",
      "\u001b[1;32mc:\\Users\\massa\\AppData\\Local\\Programs\\Python\\Python39\\lib\\site-packages\\cassandra\\cluster.cp39-win_amd64.pyd\u001b[0m in \u001b[0;36mcassandra.cluster.Cluster.connect\u001b[1;34m()\u001b[0m\n",
      "\u001b[1;32mc:\\Users\\massa\\AppData\\Local\\Programs\\Python\\Python39\\lib\\site-packages\\cassandra\\cluster.cp39-win_amd64.pyd\u001b[0m in \u001b[0;36mcassandra.cluster.Cluster.connect\u001b[1;34m()\u001b[0m\n",
      "\u001b[1;32mc:\\Users\\massa\\AppData\\Local\\Programs\\Python\\Python39\\lib\\site-packages\\cassandra\\cluster.cp39-win_amd64.pyd\u001b[0m in \u001b[0;36mcassandra.cluster.ControlConnection.connect\u001b[1;34m()\u001b[0m\n",
      "\u001b[1;32mc:\\Users\\massa\\AppData\\Local\\Programs\\Python\\Python39\\lib\\site-packages\\cassandra\\cluster.cp39-win_amd64.pyd\u001b[0m in \u001b[0;36mcassandra.cluster.ControlConnection._reconnect_internal\u001b[1;34m()\u001b[0m\n",
      "\u001b[1;31mNoHostAvailable\u001b[0m: ('Unable to connect to any servers', {'0.0.0.0:9042': OSError(10049, \"Tried connecting to [('0.0.0.0', 9042)]. Last error: O endereço solicitado não é válido no contexto\")})"
     ]
    }
   ],
   "source": [
    "cluster = Cluster(['192.168.15.3'], port=9042)\n",
    "session = cluster.connect('instructor')\n",
    "\n",
    "instructor = session.execute('select * from instructor;')\n",
    "for i in instructor:\n",
    "    print(i)"
   ]
  }
 ],
 "metadata": {
  "kernelspec": {
   "display_name": "Python 3",
   "language": "python",
   "name": "python3"
  },
  "language_info": {
   "codemirror_mode": {
    "name": "ipython",
    "version": 3
   },
   "file_extension": ".py",
   "mimetype": "text/x-python",
   "name": "python",
   "nbconvert_exporter": "python",
   "pygments_lexer": "ipython3",
   "version": "3.9.7"
  }
 },
 "nbformat": 4,
 "nbformat_minor": 2
}
